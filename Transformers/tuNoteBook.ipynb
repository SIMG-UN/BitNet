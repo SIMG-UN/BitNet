{
 "cells": [
  {
   "cell_type": "markdown",
   "id": "c4cec68d",
   "metadata": {},
   "source": [
    "Aca va la explicacion de su tema e implementacion en codigo"
   ]
  }
 ],
 "metadata": {
  "language_info": {
   "name": "python"
  }
 },
 "nbformat": 4,
 "nbformat_minor": 5
}
